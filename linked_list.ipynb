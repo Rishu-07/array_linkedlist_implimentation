{
 "cells": [
  {
   "cell_type": "code",
   "execution_count": 1,
   "metadata": {},
   "outputs": [],
   "source": [
    "class Node:\n",
    "    def __init__(self,element):\n",
    "        self.element = element\n",
    "        self.next = None\n",
    "class linkedlist:\n",
    "    def __init__(self):\n",
    "        self.head = None\n",
    "        self.size = 0\n",
    "    def __len__(self):\n",
    "        return self.size\n",
    "    def __isempty__(self):\n",
    "        return self.size ==0\n",
    "    \n",
    "    def traverse(self):\n",
    "        if self.head == None:\n",
    "            print('Linked_list is empty')\n",
    "        else:\n",
    "            n = self.head\n",
    "            while n is not None:\n",
    "                print(n.element)\n",
    "                n = n.next\n",
    "    def insertion_at_begining (self,e):\n",
    "        new_node = Node(e)\n",
    "        new_node.next = self.head\n",
    "        self.head = new_node\n",
    "    def inseration_at_end(self,e):\n",
    "        new_node = Node(e)\n",
    "        n= self.head\n",
    "\n",
    "        while n.next is not None:\n",
    "            n =n.next\n",
    "        if n.next is None:\n",
    "            n.next = new_node\n",
    "\t\t\t\n",
    "\t"
   ]
  },
  {
   "cell_type": "code",
   "execution_count": 7,
   "metadata": {},
   "outputs": [
    {
     "name": "stdout",
     "output_type": "stream",
     "text": [
      "44\n",
      "34\n",
      "24\n",
      "14\n",
      "4\n"
     ]
    },
    {
     "data": {
      "text/plain": [
       "0"
      ]
     },
     "execution_count": 7,
     "metadata": {},
     "output_type": "execute_result"
    }
   ],
   "source": [
    "\n"
   ]
  },
  {
   "cell_type": "code",
   "execution_count": null,
   "metadata": {},
   "outputs": [],
   "source": []
  }
 ],
 "metadata": {
  "kernelspec": {
   "display_name": "Python 3",
   "language": "python",
   "name": "python3"
  },
  "language_info": {
   "codemirror_mode": {
    "name": "ipython",
    "version": 3
   },
   "file_extension": ".py",
   "mimetype": "text/x-python",
   "name": "python",
   "nbconvert_exporter": "python",
   "pygments_lexer": "ipython3",
   "version": "3.12.2"
  }
 },
 "nbformat": 4,
 "nbformat_minor": 2
}
