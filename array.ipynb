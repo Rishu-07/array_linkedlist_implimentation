{
 "cells": [
  {
   "cell_type": "code",
   "execution_count": 69,
   "metadata": {},
   "outputs": [],
   "source": [
    "class array:\n",
    "\n",
    "\tdef __init__(self):\n",
    "\t\tself.array =[]\n",
    "\t\tself.size=0\n",
    "\tdef __len__(self):\n",
    "\t\treturn self.size\n",
    "\tdef print(self):\n",
    "\t\tlist1 = []\n",
    "\t\tfor i in self.array:\n",
    "\t\t\tlist1.append(i)\n",
    "\t\treturn list1\n",
    "\tdef add_element(self,value):\n",
    "\t\tself.array.append(value)\n",
    "\t\tself.size+=1\n",
    "\tdef get_element(self,index):\n",
    "\t\tif index < 0 or index>=self.size:\n",
    "\t\t\traise IndexError('You are demanding out of index')\n",
    "\t\treturn self.array[index]\n",
    "\tdef min_value(self):\n",
    "\t\tif self.size==0:\n",
    "\t\t\traise ValueError('array is empty')\n",
    "\t\tminimum_value = self.array[0]\n",
    "\t\tfor value in self.array:\n",
    "\t\t\tif value < minimum_value:\n",
    "\t\t\t\tminimum_value = value\n",
    "\t\treturn minimum_value\n",
    "\t\n",
    "\tdef max_value(self):\n",
    "\t\tif self.size==0:\n",
    "\t\t\traise ValueError(\"Array is empty\")\n",
    "\t\tmax_value=self.array[0]\n",
    "\t\tfor value in self.array:\n",
    "\t\t\tif value > max_value:\n",
    "\t\t\t\tmax_value = value\n",
    "\t\treturn max_value\n",
    "\t"
   ]
  },
  {
   "cell_type": "code",
   "execution_count": 70,
   "metadata": {},
   "outputs": [],
   "source": [
    "array1=array()\n",
    "array1.add_element(2)\n",
    "array1.add_element(4)\n",
    "array1.add_element(54)\n",
    "array1.add_element(-14)\n",
    "array1.add_element(74)\n",
    "array1.print()\n",
    "array1.get_element(4)\n",
    "array1.min_value()\n",
    "array1.max_value()\n",
    "array1.sort()\n",
    "\n"
   ]
  },
  {
   "cell_type": "code",
   "execution_count": null,
   "metadata": {},
   "outputs": [],
   "source": []
  }
 ],
 "metadata": {
  "kernelspec": {
   "display_name": "Python 3",
   "language": "python",
   "name": "python3"
  },
  "language_info": {
   "codemirror_mode": {
    "name": "ipython",
    "version": 3
   },
   "file_extension": ".py",
   "mimetype": "text/x-python",
   "name": "python",
   "nbconvert_exporter": "python",
   "pygments_lexer": "ipython3",
   "version": "3.12.2"
  }
 },
 "nbformat": 4,
 "nbformat_minor": 2
}
